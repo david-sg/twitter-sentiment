{
  "nbformat": 4,
  "nbformat_minor": 0,
  "metadata": {
    "colab": {
      "name": "twittersentiment-v006.ipynb",
      "version": "0.3.2",
      "provenance": [],
      "collapsed_sections": []
    },
    "kernelspec": {
      "name": "python3",
      "display_name": "Python 3"
    },
    "accelerator": "GPU"
  },
  "cells": [
    {
      "metadata": {
        "id": "RoNnF7wl8cdW",
        "colab_type": "text"
      },
      "cell_type": "markdown",
      "source": [
        "\n",
        "\n",
        "```\n",
        "This goal of this project is to create a model by which twitter posts can be rated as positive or negative or neutral.\n",
        "\n",
        "I would like to retrain this for the cryptocurrency niche- but need to find a good dataset.... It is working reasonably well using the airline dataset recommended by Sam, with an extra 3k other positive sentiment tweets I found (the original airline dataset was very negative leaning)\n",
        "\n",
        "*   Neutral = 0\n",
        "*  Negative = 1\n",
        "*  Positive = 2\n",
        "\n",
        "\n",
        "Versions\n",
        "*  001 - learning pandas and testing dataset\n",
        "*  002 - testing dataset and adding pie chart\n",
        "*  003 - settled on airline dataset, basic LTSM test\n",
        "*  004 - changing to functions and testing other LTSMs\n",
        "*  005 - adding checks on the LTSM chosen, added ability to check a single tweet\n",
        "*  006 - added more curated tweets to improve the dataset, adjusted learning rates, added layer, added drops, added epochs, saving best weights\n",
        "\n",
        "Currently returning val_accuracy of 78.5%, which is what the other people got in my research.\n",
        "\n",
        "\n",
        "\n",
        "\n"
      ]
    },
    {
      "metadata": {
        "id": "k5gFzjV12bIX",
        "colab_type": "code",
        "colab": {}
      },
      "cell_type": "code",
      "source": [
        "!pip install -U -q PyDrive\n"
      ],
      "execution_count": 0,
      "outputs": []
    },
    {
      "metadata": {
        "id": "4vUNxf9f2gxE",
        "colab_type": "code",
        "colab": {}
      },
      "cell_type": "code",
      "source": [
        "from pydrive.auth import GoogleAuth\n",
        "from pydrive.drive import GoogleDrive\n",
        "from google.colab import auth\n",
        "from oauth2client.client import GoogleCredentials"
      ],
      "execution_count": 0,
      "outputs": []
    },
    {
      "metadata": {
        "id": "n4miYbW12ty2",
        "colab_type": "code",
        "outputId": "d56a74e9-0fea-471f-bf8d-6ebd9cfadaaa",
        "colab": {
          "base_uri": "https://localhost:8080/",
          "height": 71
        }
      },
      "cell_type": "code",
      "source": [
        "!curl https://raw.githubusercontent.com/dexterfichuk/GoogleDriveCheckpoint/master/google_drive_checkpoint.py -O"
      ],
      "execution_count": 0,
      "outputs": [
        {
          "output_type": "stream",
          "text": [
            "  % Total    % Received % Xferd  Average Speed   Time    Time     Time  Current\n",
            "                                 Dload  Upload   Total   Spent    Left  Speed\n",
            "\r  0     0    0     0    0     0      0      0 --:--:-- --:--:-- --:--:--     0\r100  4522  100  4522    0     0   100k      0 --:--:-- --:--:-- --:--:--  102k\n"
          ],
          "name": "stdout"
        }
      ]
    },
    {
      "metadata": {
        "id": "oeClDyUv2kQr",
        "colab_type": "code",
        "colab": {}
      },
      "cell_type": "code",
      "source": [
        "# Authenticate and create the PyDrive client.\n",
        "# This only needs to be done once in a notebook.\n",
        "auth.authenticate_user()\n",
        "gauth = GoogleAuth()\n",
        "gauth.credentials = GoogleCredentials.get_application_default()\n",
        "drive = GoogleDrive(gauth)"
      ],
      "execution_count": 0,
      "outputs": []
    },
    {
      "metadata": {
        "id": "A73j2nP7298c",
        "colab_type": "code",
        "outputId": "c1de18c6-bd8a-44db-96e8-5df686e6a007",
        "colab": {
          "base_uri": "https://localhost:8080/",
          "height": 35
        }
      },
      "cell_type": "code",
      "source": [
        "from google_drive_checkpoint import GoogleDriveCheckpoint"
      ],
      "execution_count": 0,
      "outputs": [
        {
          "output_type": "stream",
          "text": [
            "Using TensorFlow backend.\n"
          ],
          "name": "stderr"
        }
      ]
    },
    {
      "metadata": {
        "id": "_8Uy3SeW8b4F",
        "colab_type": "code",
        "colab": {}
      },
      "cell_type": "code",
      "source": [
        "%reload_ext autoreload\n",
        "%autoreload 2\n",
        "%matplotlib inline\n",
        "\n",
        "import os, string, collections\n",
        "import numpy as np\n",
        "import pandas as pd\n",
        "import matplotlib.pyplot as plt\n",
        "import os\n",
        "import pickle\n",
        "import time\n",
        "\n",
        "import datetime\n",
        "\n",
        "import tensorflow as tf\n",
        "from tensorflow.contrib import rnn\n",
        "from sklearn.model_selection import train_test_split\n",
        "from sklearn.metrics import f1_score, accuracy_score, recall_score, precision_score\n",
        "\n",
        "\n",
        "from keras.wrappers.scikit_learn import KerasClassifier\n",
        "from keras.preprocessing.sequence import pad_sequences\n",
        "from keras.preprocessing.text import Tokenizer\n",
        "from keras.models import Sequential, Model, load_model\n",
        "from keras.layers.embeddings import Embedding\n",
        "from keras.layers import Flatten, Dense, Dropout, Convolution1D, MaxPooling1D, SpatialDropout1D, Input, Activation\n",
        "from keras.layers import GlobalMaxPooling1D, concatenate, LSTM, Bidirectional\n",
        "from keras.optimizers import Adam, SGD\n",
        "from keras.utils import np_utils\n",
        "from keras.callbacks import ModelCheckpoint\n",
        "\n",
        "from keras.layers import Dense\n",
        "from keras.layers import LSTM\n",
        "from keras.layers.embeddings import Embedding\n",
        "from keras.preprocessing import sequence"
      ],
      "execution_count": 0,
      "outputs": []
    },
    {
      "metadata": {
        "id": "k_bwikpc9Cx-",
        "colab_type": "text"
      },
      "cell_type": "markdown",
      "source": [
        "I wanted to build the initial model using a large corpus of pre-defined twitter posts, which have been labeled negative, positive or neutral, but the dataset was incomplete, and I found it innacurate. So I've moved to trying the airline set with approx 15k entries."
      ]
    },
    {
      "metadata": {
        "id": "9wN895f-4OI5",
        "colab_type": "code",
        "outputId": "879ec54a-1416-4fee-94f9-2910fb1afcdc",
        "colab": {
          "base_uri": "https://localhost:8080/",
          "height": 400
        }
      },
      "cell_type": "code",
      "source": [
        "\n",
        "!wget https://www.dropbox.com/s/zdlwfpegjgbuxhu/combinedtweetsnew.csv\n"
      ],
      "execution_count": 0,
      "outputs": [
        {
          "output_type": "stream",
          "text": [
            "--2019-03-29 01:31:21--  https://www.dropbox.com/s/zdlwfpegjgbuxhu/combinedtweetsnew.csv\n",
            "Resolving www.dropbox.com (www.dropbox.com)... 162.125.65.1, 2620:100:6021:1::a27d:4101\n",
            "Connecting to www.dropbox.com (www.dropbox.com)|162.125.65.1|:443... connected.\n",
            "HTTP request sent, awaiting response... 301 Moved Permanently\n",
            "Location: /s/raw/zdlwfpegjgbuxhu/combinedtweetsnew.csv [following]\n",
            "--2019-03-29 01:31:22--  https://www.dropbox.com/s/raw/zdlwfpegjgbuxhu/combinedtweetsnew.csv\n",
            "Reusing existing connection to www.dropbox.com:443.\n",
            "HTTP request sent, awaiting response... 302 Found\n",
            "Location: https://ucd265b7206d56b7af1dd0dca551.dl.dropboxusercontent.com/cd/0/inline/Ad_F5_Ta5lwn0ulqm53Adbs13iONNliCRhtIFE3zfTLI0z9OTq4busGtQ1u1Mw1B7hXKIqpQIfTtzSgL95d51De1nCzRbx4CYen76Kxh7G6K-aihBz3F_yjwAyV3vA_IaUY/file# [following]\n",
            "--2019-03-29 01:31:22--  https://ucd265b7206d56b7af1dd0dca551.dl.dropboxusercontent.com/cd/0/inline/Ad_F5_Ta5lwn0ulqm53Adbs13iONNliCRhtIFE3zfTLI0z9OTq4busGtQ1u1Mw1B7hXKIqpQIfTtzSgL95d51De1nCzRbx4CYen76Kxh7G6K-aihBz3F_yjwAyV3vA_IaUY/file\n",
            "Resolving ucd265b7206d56b7af1dd0dca551.dl.dropboxusercontent.com (ucd265b7206d56b7af1dd0dca551.dl.dropboxusercontent.com)... 162.125.65.6, 2620:100:6021:6::a27d:4106\n",
            "Connecting to ucd265b7206d56b7af1dd0dca551.dl.dropboxusercontent.com (ucd265b7206d56b7af1dd0dca551.dl.dropboxusercontent.com)|162.125.65.6|:443... connected.\n",
            "HTTP request sent, awaiting response... 200 OK\n",
            "Length: 2337925 (2.2M) [text/plain]\n",
            "Saving to: ‘combinedtweetsnew.csv.1’\n",
            "\n",
            "combinedtweetsnew.c 100%[===================>]   2.23M  2.42MB/s    in 0.9s    \n",
            "\n",
            "2019-03-29 01:31:23 (2.42 MB/s) - ‘combinedtweetsnew.csv.1’ saved [2337925/2337925]\n",
            "\n"
          ],
          "name": "stdout"
        }
      ]
    },
    {
      "metadata": {
        "id": "CWG1vq7b9UMc",
        "colab_type": "text"
      },
      "cell_type": "markdown",
      "source": [
        "use pandas to clean up the data for processing- in the former set, there were some bad rows, so needed to remove them...also make sure to use the right encoding...  so left in the drop bad lines.\n",
        "\n",
        "\n"
      ]
    },
    {
      "metadata": {
        "id": "kHMOqM31BH7K",
        "colab_type": "code",
        "outputId": "654f0401-352c-4c3a-94d9-6e951a88ebdb",
        "colab": {
          "base_uri": "https://localhost:8080/",
          "height": 144
        }
      },
      "cell_type": "code",
      "source": [
        "# Read in training data\n",
        "training_data = pd.read_csv('combinedtweetsnew.csv', error_bad_lines=False)\n",
        "\n",
        "training_data.info()"
      ],
      "execution_count": 0,
      "outputs": [
        {
          "output_type": "stream",
          "text": [
            "<class 'pandas.core.frame.DataFrame'>\n",
            "RangeIndex: 23225 entries, 0 to 23224\n",
            "Data columns (total 2 columns):\n",
            "Sentiment    23225 non-null int64\n",
            "Text         23225 non-null object\n",
            "dtypes: int64(1), object(1)\n",
            "memory usage: 363.0+ KB\n"
          ],
          "name": "stdout"
        }
      ]
    },
    {
      "metadata": {
        "id": "zYhi92QqpsBu",
        "colab_type": "code",
        "outputId": "eb81588c-68bb-4057-faec-0371f891e895",
        "colab": {
          "base_uri": "https://localhost:8080/",
          "height": 296
        }
      },
      "cell_type": "code",
      "source": [
        "training_data.describe()"
      ],
      "execution_count": 0,
      "outputs": [
        {
          "output_type": "execute_result",
          "data": {
            "text/html": [
              "<div>\n",
              "<style scoped>\n",
              "    .dataframe tbody tr th:only-of-type {\n",
              "        vertical-align: middle;\n",
              "    }\n",
              "\n",
              "    .dataframe tbody tr th {\n",
              "        vertical-align: top;\n",
              "    }\n",
              "\n",
              "    .dataframe thead th {\n",
              "        text-align: right;\n",
              "    }\n",
              "</style>\n",
              "<table border=\"1\" class=\"dataframe\">\n",
              "  <thead>\n",
              "    <tr style=\"text-align: right;\">\n",
              "      <th></th>\n",
              "      <th>Sentiment</th>\n",
              "    </tr>\n",
              "  </thead>\n",
              "  <tbody>\n",
              "    <tr>\n",
              "      <th>count</th>\n",
              "      <td>23225.000000</td>\n",
              "    </tr>\n",
              "    <tr>\n",
              "      <th>mean</th>\n",
              "      <td>1.104887</td>\n",
              "    </tr>\n",
              "    <tr>\n",
              "      <th>std</th>\n",
              "      <td>0.744555</td>\n",
              "    </tr>\n",
              "    <tr>\n",
              "      <th>min</th>\n",
              "      <td>0.000000</td>\n",
              "    </tr>\n",
              "    <tr>\n",
              "      <th>25%</th>\n",
              "      <td>1.000000</td>\n",
              "    </tr>\n",
              "    <tr>\n",
              "      <th>50%</th>\n",
              "      <td>1.000000</td>\n",
              "    </tr>\n",
              "    <tr>\n",
              "      <th>75%</th>\n",
              "      <td>2.000000</td>\n",
              "    </tr>\n",
              "    <tr>\n",
              "      <th>max</th>\n",
              "      <td>2.000000</td>\n",
              "    </tr>\n",
              "  </tbody>\n",
              "</table>\n",
              "</div>"
            ],
            "text/plain": [
              "          Sentiment\n",
              "count  23225.000000\n",
              "mean       1.104887\n",
              "std        0.744555\n",
              "min        0.000000\n",
              "25%        1.000000\n",
              "50%        1.000000\n",
              "75%        2.000000\n",
              "max        2.000000"
            ]
          },
          "metadata": {
            "tags": []
          },
          "execution_count": 9
        }
      ]
    },
    {
      "metadata": {
        "id": "hRtgPk4ed-vt",
        "colab_type": "code",
        "outputId": "b76df3ba-f173-4f1a-b887-999fd74ced96",
        "colab": {
          "base_uri": "https://localhost:8080/",
          "height": 35
        }
      },
      "cell_type": "code",
      "source": [
        "type(training_data['Sentiment'][0])"
      ],
      "execution_count": 0,
      "outputs": [
        {
          "output_type": "execute_result",
          "data": {
            "text/plain": [
              "numpy.int64"
            ]
          },
          "metadata": {
            "tags": []
          },
          "execution_count": 10
        }
      ]
    },
    {
      "metadata": {
        "id": "25WAItMUfB5d",
        "colab_type": "code",
        "colab": {}
      },
      "cell_type": "code",
      "source": [
        "# Convert the labels to float32 \n",
        "training_data['Sentiment'] = training_data['Sentiment'].astype('float32')"
      ],
      "execution_count": 0,
      "outputs": []
    },
    {
      "metadata": {
        "id": "uCdIFaDMo7K4",
        "colab_type": "code",
        "outputId": "650d7ba0-da59-4156-8932-f8fd9a6b963e",
        "colab": {
          "base_uri": "https://localhost:8080/",
          "height": 71
        }
      },
      "cell_type": "code",
      "source": [
        "training_data.isnull().any()"
      ],
      "execution_count": 0,
      "outputs": [
        {
          "output_type": "execute_result",
          "data": {
            "text/plain": [
              "Sentiment    False\n",
              "Text         False\n",
              "dtype: bool"
            ]
          },
          "metadata": {
            "tags": []
          },
          "execution_count": 12
        }
      ]
    },
    {
      "metadata": {
        "id": "oTO3SvHsv-T7",
        "colab_type": "code",
        "colab": {}
      },
      "cell_type": "code",
      "source": [
        "# shuffle \n",
        "training_data = training_data.sample(frac=1).reset_index(drop=True)\n"
      ],
      "execution_count": 0,
      "outputs": []
    },
    {
      "metadata": {
        "id": "q_ULHnJefm4t",
        "colab_type": "code",
        "outputId": "779ff309-cd16-4ba6-d288-75251b52b0e1",
        "colab": {
          "base_uri": "https://localhost:8080/",
          "height": 203
        }
      },
      "cell_type": "code",
      "source": [
        "training_data.head()"
      ],
      "execution_count": 0,
      "outputs": [
        {
          "output_type": "execute_result",
          "data": {
            "text/html": [
              "<div>\n",
              "<style scoped>\n",
              "    .dataframe tbody tr th:only-of-type {\n",
              "        vertical-align: middle;\n",
              "    }\n",
              "\n",
              "    .dataframe tbody tr th {\n",
              "        vertical-align: top;\n",
              "    }\n",
              "\n",
              "    .dataframe thead th {\n",
              "        text-align: right;\n",
              "    }\n",
              "</style>\n",
              "<table border=\"1\" class=\"dataframe\">\n",
              "  <thead>\n",
              "    <tr style=\"text-align: right;\">\n",
              "      <th></th>\n",
              "      <th>Sentiment</th>\n",
              "      <th>Text</th>\n",
              "    </tr>\n",
              "  </thead>\n",
              "  <tbody>\n",
              "    <tr>\n",
              "      <th>0</th>\n",
              "      <td>0.0</td>\n",
              "      <td>Can also but lunch will only b ready at 1 smth...</td>\n",
              "    </tr>\n",
              "    <tr>\n",
              "      <th>1</th>\n",
              "      <td>2.0</td>\n",
              "      <td>I favorited a @user video ~http  blink-182 - U...</td>\n",
              "    </tr>\n",
              "    <tr>\n",
              "      <th>2</th>\n",
              "      <td>1.0</td>\n",
              "      <td>@united CDG-LAS 42 hours. And my luggage is in...</td>\n",
              "    </tr>\n",
              "    <tr>\n",
              "      <th>3</th>\n",
              "      <td>0.0</td>\n",
              "      <td>@VirginAmerica hi I just booked a flight but n...</td>\n",
              "    </tr>\n",
              "    <tr>\n",
              "      <th>4</th>\n",
              "      <td>1.0</td>\n",
              "      <td>@SouthwestAir been on hold for 1.5 hrs. What's...</td>\n",
              "    </tr>\n",
              "  </tbody>\n",
              "</table>\n",
              "</div>"
            ],
            "text/plain": [
              "   Sentiment                                               Text\n",
              "0        0.0  Can also but lunch will only b ready at 1 smth...\n",
              "1        2.0  I favorited a @user video ~http  blink-182 - U...\n",
              "2        1.0  @united CDG-LAS 42 hours. And my luggage is in...\n",
              "3        0.0  @VirginAmerica hi I just booked a flight but n...\n",
              "4        1.0  @SouthwestAir been on hold for 1.5 hrs. What's..."
            ]
          },
          "metadata": {
            "tags": []
          },
          "execution_count": 14
        }
      ]
    },
    {
      "metadata": {
        "id": "MWPasn4OCDXM",
        "colab_type": "code",
        "outputId": "6fa281f9-d3d7-4149-c9a7-fab258af79e3",
        "colab": {
          "base_uri": "https://localhost:8080/",
          "height": 203
        }
      },
      "cell_type": "code",
      "source": [
        "def clean_text (text):\n",
        "    #remove airline hashtag and make lowercase\n",
        "    text = text.str.lower()\n",
        "    text = text.replace('\\@united', \" \", regex=True)\n",
        "    text = text.replace('\\@virginamerica', \" \", regex=True)\n",
        "    text = text.replace('\\@usairways', \" \", regex=True)\n",
        "    text = text.replace('\\@americanair', \" \", regex=True)\n",
        "    text = text.replace('\\@southwestair', \" \", regex=True)\n",
        "    text = text.replace('\\@jetblue', \" \", regex=True)\n",
        "    text = text.replace('rt \\@user', \" \", regex=True)\n",
        "    #remove urls\n",
        "    text = text.replace('\\~http', '', regex=True)\n",
        "    text = text.replace('http://[^\\s]+[\\s]?', '', regex=True)\n",
        "    text = text.replace('https://[^\\s]+[\\s]?', '', regex=True)\n",
        "    #remove hashtags\n",
        "    text = text.replace('#', \" \", regex=True)\n",
        "    #puntuations\n",
        "    text = text.replace('i’m','i am', regex=True)\n",
        "    text = text.replace('\\bi m\\b','i am', regex=True)\n",
        "    text = text.replace('n’t','nt', regex=True)\n",
        "    text = text.replace('t\\'s','ts', regex=True)\n",
        "    text = text.replace('['+string.punctuation+']+', '', regex=True)\n",
        "    \n",
        "    #other text cleanup\n",
        "    text = text.replace('\\@', ' ', regex=True)\n",
        "    text = text.replace('\\baa\\b','american airlines', regex=True)\n",
        "    text = text.replace('\\bthx\\b','thanks', regex=True)\n",
        "    text = text.replace('\\bu\\b', 'you', regex=True)\n",
        "    text = text.replace('\\bhrs\\b', 'hours', regex=True)\n",
        "    text = text.replace('\\baa\\b', 'a', regex=True)\n",
        "    text = text.replace('\\bflightr\\b', 'flight', regex=True)\n",
        "    text = text.replace('\\bur\\b', 'your', regex=True)\n",
        "    text = text.replace('\\bhr\\b', 'hour', regex=True)\n",
        "    text = text.replace('\\bthru\\b', 'through', regex=True)\n",
        "    text = text.replace('\\br\\b', 'are', regex=True)\n",
        "    text = text.replace('\\bppl\\b', 'people', regex=True)\n",
        "    text = text.replace('\\btix\\b', 'fix', regex=True)\n",
        "    text = text.replace('\\bplz\\b', 'please', regex=True)\n",
        "    text = text.replace('\\bflightd\\b', 'flighted', regex=True)\n",
        "    text = text.replace('\\btmrw\\b', 'tomorrow', regex=True)\n",
        "    text = text.replace('\\bthx\\b', 'thanks', regex=True)\n",
        "    text = text.replace('\\bpls\\b', 'please', regex=True)\n",
        "    text = text.replace('\\bfyi\\b', 'for your information', regex=True)        \n",
        "    text = text.replace('\\bheyyyy\\b', 'hey', regex=True)\n",
        "    text = text.replace('\\bguyyyys\\b', 'guys', regex=True)\n",
        "    text = text.replace('\\byall\\b', 'you all', regex=True)\n",
        "    text = text.replace('\\basap\\b', 'as soon as possible', regex=True)\n",
        "    text = text.replace('\\bbtw\\b', 'by the way', regex=True)\n",
        "    text = text.replace('\\bdm\\b', 'direct message', regex=True)\n",
        "    text = text.replace('\\bcudtomers\\b', 'customers', regex=True)\n",
        "    text = text.replace('\\bhv\\b', 'have', regex=True)\n",
        "    text = text.replace('\\bwtf\\b', 'what the fuck', regex=True)\n",
        "    text = text.replace('\\biphone\\b', 'phone', regex=True)\n",
        "    text = text.replace('\\bmins\\b', 'minutes', regex=True)\n",
        "    text = text.replace('\\btv\\b', 'television', regex=True)\n",
        "    text = text.replace('\\bokay\\b', 'ok', regex=True)\n",
        "    text = text.replace('\\bfeb\\b', 'february', regex=True)\n",
        "    text = text.replace('\\byr\\b', 'year', regex=True)\n",
        "    text = text.replace('\\bshes\\b', 'she is', regex=True)\n",
        "    text = text.replace('\\bnope\\b', 'no', regex=True)\n",
        "    text = text.replace('\\bhes\\b', 'he is', regex=True)\n",
        "    text = text.replace('\\btill\\b', 'until', regex=True)\n",
        "    text = text.replace('\\bomg\\b', 'oh my god', regex=True)\n",
        "    text = text.replace('\\btho\\b', 'though', regex=True)\n",
        "    text = text.replace('\\bnothappy\\b', 'not happy', regex=True)\n",
        "    text = text.replace('\\bthankyou\\b', 'thank you', regex=True)\n",
        "    text = text.replace('\\bthnx\\b', 'thanks', regex=True)\n",
        "    text = text.replace('\\bmin\\b', 'minutes', regex=True)\n",
        "    text = text.replace('\\bmins\\b', 'minutes', regex=True)\n",
        "    text = text.replace('\\bwth\\b', 'what the hell', regex=True)\n",
        "    text = text.replace('\\bpls\\b', 'please', regex=True)\n",
        "\n",
        "    #crypto specific\n",
        "    text = text.replace('\\bhodl\\b', 'hold', regex=True)\n",
        "    text = text.replace('\\bbuidl\\b', 'build', regex=True)\n",
        "    text = text.replace('\\s+', ' ', regex=True)\n",
        "    \n",
        "    \n",
        "    return (text)\n",
        "\n",
        "training_data['Text'] = clean_text(training_data['Text'])\n",
        "\n",
        "training_data.head()\n",
        "\n",
        "\n"
      ],
      "execution_count": 0,
      "outputs": [
        {
          "output_type": "execute_result",
          "data": {
            "text/html": [
              "<div>\n",
              "<style scoped>\n",
              "    .dataframe tbody tr th:only-of-type {\n",
              "        vertical-align: middle;\n",
              "    }\n",
              "\n",
              "    .dataframe tbody tr th {\n",
              "        vertical-align: top;\n",
              "    }\n",
              "\n",
              "    .dataframe thead th {\n",
              "        text-align: right;\n",
              "    }\n",
              "</style>\n",
              "<table border=\"1\" class=\"dataframe\">\n",
              "  <thead>\n",
              "    <tr style=\"text-align: right;\">\n",
              "      <th></th>\n",
              "      <th>Sentiment</th>\n",
              "      <th>Text</th>\n",
              "    </tr>\n",
              "  </thead>\n",
              "  <tbody>\n",
              "    <tr>\n",
              "      <th>0</th>\n",
              "      <td>0.0</td>\n",
              "      <td>can also but lunch will only b ready at 1 smth...</td>\n",
              "    </tr>\n",
              "    <tr>\n",
              "      <th>1</th>\n",
              "      <td>2.0</td>\n",
              "      <td>i favorited a user video blink182 up all night</td>\n",
              "    </tr>\n",
              "    <tr>\n",
              "      <th>2</th>\n",
              "      <td>1.0</td>\n",
              "      <td>cdglas 42 hours and my luggage is in sfo ive ...</td>\n",
              "    </tr>\n",
              "    <tr>\n",
              "      <th>3</th>\n",
              "      <td>0.0</td>\n",
              "      <td>hi i just booked a flight but need to add bag...</td>\n",
              "    </tr>\n",
              "    <tr>\n",
              "      <th>4</th>\n",
              "      <td>1.0</td>\n",
              "      <td>been on hold for 15 hrs whats up</td>\n",
              "    </tr>\n",
              "  </tbody>\n",
              "</table>\n",
              "</div>"
            ],
            "text/plain": [
              "   Sentiment                                               Text\n",
              "0        0.0  can also but lunch will only b ready at 1 smth...\n",
              "1        2.0     i favorited a user video blink182 up all night\n",
              "2        1.0   cdglas 42 hours and my luggage is in sfo ive ...\n",
              "3        0.0   hi i just booked a flight but need to add bag...\n",
              "4        1.0                   been on hold for 15 hrs whats up"
            ]
          },
          "metadata": {
            "tags": []
          },
          "execution_count": 15
        }
      ]
    },
    {
      "metadata": {
        "id": "Tx7tbFAqrk69",
        "colab_type": "text"
      },
      "cell_type": "markdown",
      "source": [
        "Lets see what the ratio of positive and negative sentiment is in the data"
      ]
    },
    {
      "metadata": {
        "id": "2CT2fy_llome",
        "colab_type": "code",
        "outputId": "b1742fcd-6b83-42b2-cb66-245fc1551460",
        "colab": {
          "base_uri": "https://localhost:8080/",
          "height": 89
        }
      },
      "cell_type": "code",
      "source": [
        "training_data.Sentiment.value_counts()"
      ],
      "execution_count": 0,
      "outputs": [
        {
          "output_type": "execute_result",
          "data": {
            "text/plain": [
              "1.0    10095\n",
              "2.0     7783\n",
              "0.0     5347\n",
              "Name: Sentiment, dtype: int64"
            ]
          },
          "metadata": {
            "tags": []
          },
          "execution_count": 16
        }
      ]
    },
    {
      "metadata": {
        "id": "XBiDX1rGqaK1",
        "colab_type": "code",
        "outputId": "4d3888c4-8cc3-42d7-fce5-b21f51b16c31",
        "colab": {
          "base_uri": "https://localhost:8080/",
          "height": 126
        }
      },
      "cell_type": "code",
      "source": [
        "training_data[training_data.Sentiment == 0].index"
      ],
      "execution_count": 0,
      "outputs": [
        {
          "output_type": "execute_result",
          "data": {
            "text/plain": [
              "Int64Index([    0,     3,     6,    12,    13,    18,    20,    21,    23,\n",
              "               24,\n",
              "            ...\n",
              "            23202, 23203, 23204, 23205, 23207, 23209, 23212, 23214, 23221,\n",
              "            23224],\n",
              "           dtype='int64', length=5347)"
            ]
          },
          "metadata": {
            "tags": []
          },
          "execution_count": 17
        }
      ]
    },
    {
      "metadata": {
        "id": "A2C97V7Df4sf",
        "colab_type": "code",
        "colab": {}
      },
      "cell_type": "code",
      "source": [
        "%matplotlib inline\n",
        "import matplotlib.pyplot as plt\n",
        "\n"
      ],
      "execution_count": 0,
      "outputs": []
    },
    {
      "metadata": {
        "id": "Y0A2TwpGpZRX",
        "colab_type": "code",
        "outputId": "92bcb434-d21f-4954-fffe-4385fb3ea4f4",
        "colab": {
          "base_uri": "https://localhost:8080/",
          "height": 266
        }
      },
      "cell_type": "code",
      "source": [
        "#Data to plot\n",
        "labels = 'Negative Sentiment', 'Neutral Sentiment', 'Positive Sentiment'\n",
        "sizes = pd.Series(training_data['Sentiment']).value_counts().to_dict()\n",
        "print (sizes)\n",
        "sizes=[sizes[1],sizes[0],sizes[2]]\n",
        "colors = ['grey', 'orchid', 'limegreen']\n",
        " \n",
        "# Plot\n",
        " \n",
        "explode = (0, 0.0, 0.1)  # only \"explode\" the 2nd slice \n",
        "\n",
        "fig1, ax1 = plt.subplots()\n",
        "ax1.pie(sizes, explode=explode, labels=labels, autopct='%1.1f%%',\n",
        "        shadow=True, startangle=90, colors=colors)\n",
        "ax1.axis('equal')  # Equal aspect ratio ensures that pie is drawn as a circle.\n",
        "\n",
        "plt.show()"
      ],
      "execution_count": 0,
      "outputs": [
        {
          "output_type": "stream",
          "text": [
            "{1.0: 10095, 2.0: 7783, 0.0: 5347}\n"
          ],
          "name": "stdout"
        },
        {
          "output_type": "display_data",
          "data": {
            "image/png": "[encoded data removed]",
            "text/plain": [
              "<Figure size 432x288 with 1 Axes>"
            ]
          },
          "metadata": {
            "tags": []
          }
        }
      ]
    },
    {
      "metadata": {
        "id": "j82f0tQQnl8-",
        "colab_type": "text"
      },
      "cell_type": "markdown",
      "source": [
        "I think this dataset may be balanced too much to negative sentiment... however, if I remove, it will be too small..."
      ]
    },
    {
      "metadata": {
        "id": "ICmE_M30WxNg",
        "colab_type": "text"
      },
      "cell_type": "markdown",
      "source": [
        "Dataset is now ready to be put into a model...\n",
        "I'm going to use a RNN (LSTM), since the text sentiment can be tought of as a times series, and will need previous words in a sentence, passing hidden states.\n"
      ]
    },
    {
      "metadata": {
        "id": "DL1AcG1amdVZ",
        "colab_type": "text"
      },
      "cell_type": "markdown",
      "source": [
        "Tokenization -  some of this code taken from https://medium.com/@martinpella/customers-tweets-classification-41cdca4e2de\n",
        "and a bunch from https://colab.research.google.com/drive/1QMMWAr1J5oa-1T3Y5pyAdDwlfArGMeUT"
      ]
    },
    {
      "metadata": {
        "id": "dGY1P4E-rRzF",
        "colab_type": "code",
        "colab": {}
      },
      "cell_type": "code",
      "source": [
        "import re"
      ],
      "execution_count": 0,
      "outputs": []
    },
    {
      "metadata": {
        "id": "ys6YagMqrTXc",
        "colab_type": "code",
        "colab": {}
      },
      "cell_type": "code",
      "source": [
        "re_tok = re.compile(f'([{string.punctuation}“”¨«»®´·º½¾¿¡§£₤‘’])')\n",
        "\n",
        "def tokenize(s): \n",
        "    return re_tok.sub(' \\1 ', s).split()\n",
        "\n",
        "\n",
        "training_data['tokenized'] = training_data['Text'].apply(lambda row: tokenize(row))"
      ],
      "execution_count": 0,
      "outputs": []
    },
    {
      "metadata": {
        "id": "0HCBhGGomsIz",
        "colab_type": "code",
        "outputId": "39d64351-9dc4-4a93-afcd-fb360f1c10e0",
        "colab": {
          "base_uri": "https://localhost:8080/",
          "height": 203
        }
      },
      "cell_type": "code",
      "source": [
        "training_data[['Text', 'tokenized']].head()"
      ],
      "execution_count": 0,
      "outputs": [
        {
          "output_type": "execute_result",
          "data": {
            "text/html": [
              "<div>\n",
              "<style scoped>\n",
              "    .dataframe tbody tr th:only-of-type {\n",
              "        vertical-align: middle;\n",
              "    }\n",
              "\n",
              "    .dataframe tbody tr th {\n",
              "        vertical-align: top;\n",
              "    }\n",
              "\n",
              "    .dataframe thead th {\n",
              "        text-align: right;\n",
              "    }\n",
              "</style>\n",
              "<table border=\"1\" class=\"dataframe\">\n",
              "  <thead>\n",
              "    <tr style=\"text-align: right;\">\n",
              "      <th></th>\n",
              "      <th>Text</th>\n",
              "      <th>tokenized</th>\n",
              "    </tr>\n",
              "  </thead>\n",
              "  <tbody>\n",
              "    <tr>\n",
              "      <th>0</th>\n",
              "      <td>can also but lunch will only b ready at 1 smth...</td>\n",
              "      <td>[can, also, but, lunch, will, only, b, ready, ...</td>\n",
              "    </tr>\n",
              "    <tr>\n",
              "      <th>1</th>\n",
              "      <td>i favorited a user video blink182 up all night</td>\n",
              "      <td>[i, favorited, a, user, video, blink182, up, a...</td>\n",
              "    </tr>\n",
              "    <tr>\n",
              "      <th>2</th>\n",
              "      <td>cdglas 42 hours and my luggage is in sfo ive ...</td>\n",
              "      <td>[cdglas, 42, hours, and, my, luggage, is, in, ...</td>\n",
              "    </tr>\n",
              "    <tr>\n",
              "      <th>3</th>\n",
              "      <td>hi i just booked a flight but need to add bag...</td>\n",
              "      <td>[hi, i, just, booked, a, flight, but, need, to...</td>\n",
              "    </tr>\n",
              "    <tr>\n",
              "      <th>4</th>\n",
              "      <td>been on hold for 15 hrs whats up</td>\n",
              "      <td>[been, on, hold, for, 15, hrs, whats, up]</td>\n",
              "    </tr>\n",
              "  </tbody>\n",
              "</table>\n",
              "</div>"
            ],
            "text/plain": [
              "                                                Text  \\\n",
              "0  can also but lunch will only b ready at 1 smth...   \n",
              "1     i favorited a user video blink182 up all night   \n",
              "2   cdglas 42 hours and my luggage is in sfo ive ...   \n",
              "3   hi i just booked a flight but need to add bag...   \n",
              "4                   been on hold for 15 hrs whats up   \n",
              "\n",
              "                                           tokenized  \n",
              "0  [can, also, but, lunch, will, only, b, ready, ...  \n",
              "1  [i, favorited, a, user, video, blink182, up, a...  \n",
              "2  [cdglas, 42, hours, and, my, luggage, is, in, ...  \n",
              "3  [hi, i, just, booked, a, flight, but, need, to...  \n",
              "4          [been, on, hold, for, 15, hrs, whats, up]  "
            ]
          },
          "metadata": {
            "tags": []
          },
          "execution_count": 22
        }
      ]
    },
    {
      "metadata": {
        "id": "-y7q15BKzOak",
        "colab_type": "text"
      },
      "cell_type": "markdown",
      "source": [
        "Vocabulary Collection"
      ]
    },
    {
      "metadata": {
        "id": "SsB3ROVJzNvw",
        "colab_type": "code",
        "colab": {}
      },
      "cell_type": "code",
      "source": [
        "def update_vocab_counter(row):\n",
        "    for word in row:\n",
        "        vocab_counter[word] += 1"
      ],
      "execution_count": 0,
      "outputs": []
    },
    {
      "metadata": {
        "id": "kraqVufxzX9o",
        "colab_type": "code",
        "colab": {}
      },
      "cell_type": "code",
      "source": [
        "vocab_counter = collections.Counter()\n",
        "training_data['tokenized'].apply(update_vocab_counter);\n",
        "vocab = sorted(vocab_counter, key=vocab_counter.get, reverse=True)"
      ],
      "execution_count": 0,
      "outputs": []
    },
    {
      "metadata": {
        "id": "Y7Trediqzote",
        "colab_type": "code",
        "outputId": "f1634682-56a7-40aa-d873-c251b5b7eea7",
        "colab": {
          "base_uri": "https://localhost:8080/",
          "height": 35
        }
      },
      "cell_type": "code",
      "source": [
        "len(vocab)"
      ],
      "execution_count": 0,
      "outputs": [
        {
          "output_type": "execute_result",
          "data": {
            "text/plain": [
              "23729"
            ]
          },
          "metadata": {
            "tags": []
          },
          "execution_count": 25
        }
      ]
    },
    {
      "metadata": {
        "id": "0zc0TVTizuh6",
        "colab_type": "text"
      },
      "cell_type": "markdown",
      "source": [
        "Limit to the most common 5000 words\n"
      ]
    },
    {
      "metadata": {
        "id": "PpjR1g0YzyWM",
        "colab_type": "code",
        "colab": {}
      },
      "cell_type": "code",
      "source": [
        "max_words = 5000\n"
      ],
      "execution_count": 0,
      "outputs": []
    },
    {
      "metadata": {
        "id": "yOXFKsefz49r",
        "colab_type": "text"
      },
      "cell_type": "markdown",
      "source": [
        "Dictionary that map each token with their id"
      ]
    },
    {
      "metadata": {
        "id": "zwviBJAkz8_v",
        "colab_type": "code",
        "colab": {}
      },
      "cell_type": "code",
      "source": [
        "w2id = {w:i for i, w in enumerate(vocab[:max_words])}"
      ],
      "execution_count": 0,
      "outputs": []
    },
    {
      "metadata": {
        "id": "OMfnlKcn0DW6",
        "colab_type": "text"
      },
      "cell_type": "markdown",
      "source": [
        "Replace each token out of top 5000 with 'unk'"
      ]
    },
    {
      "metadata": {
        "id": "G9uNPnBV0GvI",
        "colab_type": "code",
        "colab": {}
      },
      "cell_type": "code",
      "source": [
        "w2id['unk'] = 0"
      ],
      "execution_count": 0,
      "outputs": []
    },
    {
      "metadata": {
        "id": "_N_hSdTQ0MRC",
        "colab_type": "text"
      },
      "cell_type": "markdown",
      "source": [
        "Transform each token by their id"
      ]
    },
    {
      "metadata": {
        "id": "Qt4Lb0bw0Qls",
        "colab_type": "code",
        "colab": {}
      },
      "cell_type": "code",
      "source": [
        "def transform_to_ids(row):\n",
        "    return [w2id[w] if w in w2id else w2id['unk'] for w in row]"
      ],
      "execution_count": 0,
      "outputs": []
    },
    {
      "metadata": {
        "id": "w8mxENAY0agL",
        "colab_type": "code",
        "colab": {}
      },
      "cell_type": "code",
      "source": [
        "training_data['tokenized_int'] = training_data['tokenized'].apply(lambda x: transform_to_ids(x))"
      ],
      "execution_count": 0,
      "outputs": []
    },
    {
      "metadata": {
        "id": "WQKvyGhf0Ub1",
        "colab_type": "text"
      },
      "cell_type": "markdown",
      "source": [
        "Tweets length"
      ]
    },
    {
      "metadata": {
        "id": "o0Rc-1-p0VNJ",
        "colab_type": "code",
        "colab": {}
      },
      "cell_type": "code",
      "source": [
        "lens = training_data['tokenized_int'].apply(lambda x: len(x))"
      ],
      "execution_count": 0,
      "outputs": []
    },
    {
      "metadata": {
        "id": "Q7W82e4V0uxH",
        "colab_type": "code",
        "outputId": "c48c2399-6915-4d80-d171-a136aeacd6b9",
        "colab": {
          "base_uri": "https://localhost:8080/",
          "height": 35
        }
      },
      "cell_type": "code",
      "source": [
        "min(lens), max(lens), np.mean(lens)"
      ],
      "execution_count": 0,
      "outputs": [
        {
          "output_type": "execute_result",
          "data": {
            "text/plain": [
              "(1, 65, 15.811065662002154)"
            ]
          },
          "metadata": {
            "tags": []
          },
          "execution_count": 32
        }
      ]
    },
    {
      "metadata": {
        "id": "mVaZjeZF01-E",
        "colab_type": "text"
      },
      "cell_type": "markdown",
      "source": [
        "Limit the legnth to 40 words\n",
        "\n",
        "\n"
      ]
    },
    {
      "metadata": {
        "id": "OwaDEDcP038-",
        "colab_type": "code",
        "colab": {}
      },
      "cell_type": "code",
      "source": [
        "maxlen = 40"
      ],
      "execution_count": 0,
      "outputs": []
    },
    {
      "metadata": {
        "id": "woEJha3ksNs1",
        "colab_type": "text"
      },
      "cell_type": "markdown",
      "source": [
        "Split the data up into training and testing"
      ]
    },
    {
      "metadata": {
        "id": "8UlsLFOTsdFN",
        "colab_type": "code",
        "colab": {}
      },
      "cell_type": "code",
      "source": [
        "X_train,X_test,y_train,y_test = train_test_split(training_data['tokenized_int'], \n",
        "                                                 training_data['Sentiment'], test_size=0.1, shuffle=False, \n",
        "                                                 random_state=42)"
      ],
      "execution_count": 0,
      "outputs": []
    },
    {
      "metadata": {
        "id": "L_FusZYQ1Opl",
        "colab_type": "code",
        "colab": {}
      },
      "cell_type": "code",
      "source": [
        "x_train = sequence.pad_sequences(X_train, maxlen=maxlen, value=0)\n",
        "x_test = sequence.pad_sequences(X_test, maxlen=maxlen, value=0)"
      ],
      "execution_count": 0,
      "outputs": []
    },
    {
      "metadata": {
        "id": "KasTwMac4zW1",
        "colab_type": "code",
        "outputId": "355d6f40-0d64-4108-ddbf-bef1b5a53c43",
        "colab": {
          "base_uri": "https://localhost:8080/",
          "height": 144
        }
      },
      "cell_type": "code",
      "source": [
        "print (x_train)\n"
      ],
      "execution_count": 0,
      "outputs": [
        {
          "output_type": "stream",
          "text": [
            "[[   0    0    0 ...   46   22 1776]\n",
            " [   0    0    0 ...   42   43  196]\n",
            " [   0    0    0 ...   75    4    0]\n",
            " ...\n",
            " [   0    0    0 ...    8  561    0]\n",
            " [   0    0    0 ...  986  561 1077]\n",
            " [   0    0    0 ...  230   13    7]]\n"
          ],
          "name": "stdout"
        }
      ]
    },
    {
      "metadata": {
        "id": "1q5MmLwxos9v",
        "colab_type": "text"
      },
      "cell_type": "markdown",
      "source": [
        "One hot encode"
      ]
    },
    {
      "metadata": {
        "id": "k1NCGA3PoumD",
        "colab_type": "code",
        "colab": {}
      },
      "cell_type": "code",
      "source": [
        "y_train = np_utils.to_categorical(y_train)\n",
        "y_test = np_utils.to_categorical(y_test)\n",
        "\n"
      ],
      "execution_count": 0,
      "outputs": []
    },
    {
      "metadata": {
        "id": "os2AZH-n-3Qf",
        "colab_type": "code",
        "outputId": "8faf7699-b4cd-47d6-c6a2-a2305af627e2",
        "colab": {
          "base_uri": "https://localhost:8080/",
          "height": 162
        }
      },
      "cell_type": "code",
      "source": [
        "print(y_train.shape)\n",
        "print(y_test)"
      ],
      "execution_count": 0,
      "outputs": [
        {
          "output_type": "stream",
          "text": [
            "(20902, 3)\n",
            "[[0. 0. 1.]\n",
            " [0. 1. 0.]\n",
            " [0. 0. 1.]\n",
            " ...\n",
            " [0. 1. 0.]\n",
            " [0. 0. 1.]\n",
            " [1. 0. 0.]]\n"
          ],
          "name": "stdout"
        }
      ]
    },
    {
      "metadata": {
        "id": "5bVYQhUepRxm",
        "colab_type": "text"
      },
      "cell_type": "markdown",
      "source": [
        "LSTM"
      ]
    },
    {
      "metadata": {
        "id": "zMVf5ZksoIv5",
        "colab_type": "text"
      },
      "cell_type": "markdown",
      "source": [
        "LTSM code from here: https://github.com/keras-team/keras/blob/master/examples/imdb_bidirectional_lstm.py"
      ]
    },
    {
      "metadata": {
        "id": "829NkGpSD349",
        "colab_type": "code",
        "outputId": "b84ebe64-ad13-4eb7-e262-060b24f642c5",
        "colab": {
          "base_uri": "https://localhost:8080/",
          "height": 509
        }
      },
      "cell_type": "code",
      "source": [
        "max_features = 5000\n",
        "batch_size = 500\n",
        "epochs = 100\n",
        "\n",
        "\n",
        "\n",
        "model = Sequential()\n",
        "model.add(Embedding(max_features, 128, input_length=maxlen))\n",
        "model.add(Bidirectional(LSTM(64, dropout=0.50, recurrent_dropout=0.50)))\n",
        "model.add(Dropout(0.50))\n",
        "model.add(Dense(32, activation='relu'))\n",
        "model.add(Dropout(0.50))\n",
        "model.add(Dense(3, activation='softmax'))\n",
        "\n",
        "print (model.summary())\n",
        "\n"
      ],
      "execution_count": 0,
      "outputs": [
        {
          "output_type": "stream",
          "text": [
            "WARNING:tensorflow:From /usr/local/lib/python3.6/dist-packages/tensorflow/python/framework/op_def_library.py:263: colocate_with (from tensorflow.python.framework.ops) is deprecated and will be removed in a future version.\n",
            "Instructions for updating:\n",
            "Colocations handled automatically by placer.\n",
            "WARNING:tensorflow:From /usr/local/lib/python3.6/dist-packages/keras/backend/tensorflow_backend.py:3445: calling dropout (from tensorflow.python.ops.nn_ops) with keep_prob is deprecated and will be removed in a future version.\n",
            "Instructions for updating:\n",
            "Please use `rate` instead of `keep_prob`. Rate should be set to `rate = 1 - keep_prob`.\n",
            "_________________________________________________________________\n",
            "Layer (type)                 Output Shape              Param #   \n",
            "=================================================================\n",
            "embedding_1 (Embedding)      (None, 40, 128)           640000    \n",
            "_________________________________________________________________\n",
            "bidirectional_1 (Bidirection (None, 128)               98816     \n",
            "_________________________________________________________________\n",
            "dropout_1 (Dropout)          (None, 128)               0         \n",
            "_________________________________________________________________\n",
            "dense_1 (Dense)              (None, 32)                4128      \n",
            "_________________________________________________________________\n",
            "dropout_2 (Dropout)          (None, 32)                0         \n",
            "_________________________________________________________________\n",
            "dense_2 (Dense)              (None, 3)                 99        \n",
            "=================================================================\n",
            "Total params: 743,043\n",
            "Trainable params: 743,043\n",
            "Non-trainable params: 0\n",
            "_________________________________________________________________\n",
            "None\n"
          ],
          "name": "stdout"
        }
      ]
    },
    {
      "metadata": {
        "id": "KDuswXNIo3Wc",
        "colab_type": "text"
      },
      "cell_type": "markdown",
      "source": [
        "I've tried a number of different optimizers, SGD, Adagrad, adam and RMSprop\n",
        "Best result is 78% accuracy, which is in line with what others have gotten."
      ]
    },
    {
      "metadata": {
        "id": "y5IkqD5HD47_",
        "colab_type": "code",
        "colab": {}
      },
      "cell_type": "code",
      "source": [
        "checkpoint = GoogleDriveCheckpoint('6new_weights_{epoch:02d}_{val_acc:.2f}.hdf5', drive,  verbose=1, save_best_only=True, mode='auto')\n",
        "# drive directory link : https://drive.google.com/open?id=1vtt19oHvcOetL1QHwUwCzE2HnH8cdRrv\n",
        "\n",
        "# try using different optimizers and different optimizer configs\n",
        "from keras import optimizers\n",
        "\n",
        "opt = SGD(lr=0.5)\n",
        "model.compile(opt, 'categorical_crossentropy', metrics=['accuracy'])\n",
        "#model.compile('RMSprop', 'categorical_crossentropy', metrics=['accuracy'])\n"
      ],
      "execution_count": 0,
      "outputs": []
    },
    {
      "metadata": {
        "id": "bgw2LdMZrULh",
        "colab_type": "code",
        "outputId": "b2cf8b2b-8668-4192-d070-bd92b2d2fff4",
        "colab": {
          "base_uri": "https://localhost:8080/",
          "height": 8055
        }
      },
      "cell_type": "code",
      "source": [
        "\n",
        "print('Train...')\n",
        "history = model.fit(x_train, y_train,\n",
        "          batch_size=batch_size,\n",
        "          epochs=epochs,\n",
        "          validation_data=[x_test, y_test],\n",
        "          callbacks=[checkpoint])\n",
        "score, acc = model.evaluate(x_test, y_test, batch_size=batch_size)\n",
        "print('Test score:', score)\n",
        "print('Test accuracy:', acc)"
      ],
      "execution_count": 0,
      "outputs": [
        {
          "output_type": "stream",
          "text": [
            "Train...\n",
            "WARNING:tensorflow:From /usr/local/lib/python3.6/dist-packages/tensorflow/python/ops/math_ops.py:3066: to_int32 (from tensorflow.python.ops.math_ops) is deprecated and will be removed in a future version.\n",
            "Instructions for updating:\n",
            "Use tf.cast instead.\n",
            "Train on 20902 samples, validate on 2323 samples\n",
            "Epoch 1/100\n",
            "20902/20902 [==============================] - 11s 544us/step - loss: 1.0685 - acc: 0.4314 - val_loss: 1.0478 - val_acc: 0.4593\n",
            "\n",
            "Epoch 00001: val_loss improved from inf to 1.04778, saving model to 6new_weights_01_0.46.hdf5\n",
            "Uploaded file 6new_weights_01_0.46.hdf5 to drive with ID 15HCQnDqJrRs_oFyb8wyt9hhCDdN7VafO\n",
            "Epoch 2/100\n",
            "20902/20902 [==============================] - 9s 437us/step - loss: 1.0435 - acc: 0.4672 - val_loss: 0.9982 - val_acc: 0.5347\n",
            "\n",
            "Epoch 00002: val_loss improved from 1.04778 to 0.99819, saving model to 6new_weights_02_0.53.hdf5\n",
            "Uploaded file 6new_weights_02_0.53.hdf5 to drive with ID 15aNzrdaJ9fUXeIUGTMEKmZQSdX2SU7qU\n",
            "Epoch 3/100\n",
            "20902/20902 [==============================] - 9s 437us/step - loss: 1.0215 - acc: 0.4978 - val_loss: 0.9731 - val_acc: 0.5514\n",
            "\n",
            "Epoch 00003: val_loss improved from 0.99819 to 0.97314, saving model to 6new_weights_03_0.55.hdf5\n",
            "Uploaded file 6new_weights_03_0.55.hdf5 to drive with ID 1e1EgiccVD7jZaeF3lIx5psLHnyO0jxoZ\n",
            "Epoch 4/100\n",
            "20902/20902 [==============================] - 9s 435us/step - loss: 1.0127 - acc: 0.5069 - val_loss: 0.9708 - val_acc: 0.5377\n",
            "\n",
            "Epoch 00004: val_loss improved from 0.97314 to 0.97082, saving model to 6new_weights_04_0.54.hdf5\n",
            "Uploaded file 6new_weights_04_0.54.hdf5 to drive with ID 1j06PwEerc2ygZCNVQtg6Waa2RobNlxQM\n",
            "Epoch 5/100\n",
            "20902/20902 [==============================] - 9s 428us/step - loss: 0.9984 - acc: 0.5149 - val_loss: 0.9413 - val_acc: 0.5618\n",
            "\n",
            "Epoch 00005: val_loss improved from 0.97082 to 0.94132, saving model to 6new_weights_05_0.56.hdf5\n",
            "Uploaded file 6new_weights_05_0.56.hdf5 to drive with ID 1kS2JAP7bPWjEcADnZG65T2cldGzcNtrB\n",
            "Epoch 6/100\n",
            "20902/20902 [==============================] - 9s 438us/step - loss: 0.9883 - acc: 0.5234 - val_loss: 0.9540 - val_acc: 0.5854\n",
            "\n",
            "Epoch 00006: val_loss did not improve from 0.94132\n",
            "Epoch 7/100\n",
            "20902/20902 [==============================] - 9s 436us/step - loss: 0.9666 - acc: 0.5443 - val_loss: 0.8762 - val_acc: 0.6022\n",
            "\n",
            "Epoch 00007: val_loss improved from 0.94132 to 0.87623, saving model to 6new_weights_07_0.60.hdf5\n",
            "Uploaded file 6new_weights_07_0.60.hdf5 to drive with ID 1oN-3-Wt64M1RHMjNsrq1PapyA8GP_qMW\n",
            "Epoch 8/100\n",
            "20902/20902 [==============================] - 9s 431us/step - loss: 0.9598 - acc: 0.5476 - val_loss: 0.8924 - val_acc: 0.6070\n",
            "\n",
            "Epoch 00008: val_loss did not improve from 0.87623\n",
            "Epoch 9/100\n",
            "20902/20902 [==============================] - 9s 433us/step - loss: 0.9322 - acc: 0.5715 - val_loss: 0.9024 - val_acc: 0.5764\n",
            "\n",
            "Epoch 00009: val_loss did not improve from 0.87623\n",
            "Epoch 10/100\n",
            "20902/20902 [==============================] - 9s 435us/step - loss: 0.9084 - acc: 0.5867 - val_loss: 0.8187 - val_acc: 0.6307\n",
            "\n",
            "Epoch 00010: val_loss improved from 0.87623 to 0.81865, saving model to 6new_weights_10_0.63.hdf5\n",
            "Uploaded file 6new_weights_10_0.63.hdf5 to drive with ID 1oTHRNbd3ENNxqGJKMTIQa6l5Jezs1OrM\n",
            "Epoch 11/100\n",
            "20902/20902 [==============================] - 9s 430us/step - loss: 0.8896 - acc: 0.5999 - val_loss: 0.8481 - val_acc: 0.6130\n",
            "\n",
            "Epoch 00011: val_loss did not improve from 0.81865\n",
            "Epoch 12/100\n",
            "20902/20902 [==============================] - 9s 433us/step - loss: 0.8692 - acc: 0.6165 - val_loss: 1.1386 - val_acc: 0.4770\n",
            "\n",
            "Epoch 00012: val_loss did not improve from 0.81865\n",
            "Epoch 13/100\n",
            "20902/20902 [==============================] - 9s 436us/step - loss: 0.8668 - acc: 0.6099 - val_loss: 0.7823 - val_acc: 0.6560\n",
            "\n",
            "Epoch 00013: val_loss improved from 0.81865 to 0.78232, saving model to 6new_weights_13_0.66.hdf5\n",
            "Uploaded file 6new_weights_13_0.66.hdf5 to drive with ID 1ebKtO4wgnfCNTpYc-4ifPVNaP8LnLgxS\n",
            "Epoch 14/100\n",
            "20902/20902 [==============================] - 9s 430us/step - loss: 0.8380 - acc: 0.6323 - val_loss: 0.9131 - val_acc: 0.5523\n",
            "\n",
            "Epoch 00014: val_loss did not improve from 0.78232\n",
            "Epoch 15/100\n",
            "20902/20902 [==============================] - 9s 434us/step - loss: 0.8520 - acc: 0.6222 - val_loss: 0.7585 - val_acc: 0.6548\n",
            "\n",
            "Epoch 00015: val_loss improved from 0.78232 to 0.75850, saving model to 6new_weights_15_0.65.hdf5\n",
            "Uploaded file 6new_weights_15_0.65.hdf5 to drive with ID 1hC0-yf0nUIgF3dBp5-JH2ONlkiNpM7XQ\n",
            "Epoch 16/100\n",
            "20902/20902 [==============================] - 9s 432us/step - loss: 0.8156 - acc: 0.6406 - val_loss: 0.7529 - val_acc: 0.6690\n",
            "\n",
            "Epoch 00016: val_loss improved from 0.75850 to 0.75285, saving model to 6new_weights_16_0.67.hdf5\n",
            "Uploaded file 6new_weights_16_0.67.hdf5 to drive with ID 1i9fsH54kMNVKhIBXztoKHfYYbIJAMDz6\n",
            "Epoch 17/100\n",
            "20902/20902 [==============================] - 9s 431us/step - loss: 0.8140 - acc: 0.6423 - val_loss: 0.8131 - val_acc: 0.6354\n",
            "\n",
            "Epoch 00017: val_loss did not improve from 0.75285\n",
            "Epoch 18/100\n",
            "20902/20902 [==============================] - 9s 432us/step - loss: 0.8004 - acc: 0.6483 - val_loss: 0.7991 - val_acc: 0.6483\n",
            "\n",
            "Epoch 00018: val_loss did not improve from 0.75285\n",
            "Epoch 19/100\n",
            "20902/20902 [==============================] - 9s 431us/step - loss: 0.7818 - acc: 0.6529 - val_loss: 0.7181 - val_acc: 0.6806\n",
            "\n",
            "Epoch 00019: val_loss improved from 0.75285 to 0.71809, saving model to 6new_weights_19_0.68.hdf5\n",
            "Uploaded file 6new_weights_19_0.68.hdf5 to drive with ID 13yG_xerXpAaMlx0rQ3jUHOT_cXitIHPT\n",
            "Epoch 20/100\n",
            "20902/20902 [==============================] - 9s 433us/step - loss: 0.8642 - acc: 0.6113 - val_loss: 0.8280 - val_acc: 0.6242\n",
            "\n",
            "Epoch 00020: val_loss did not improve from 0.71809\n",
            "Epoch 21/100\n",
            "20902/20902 [==============================] - 9s 429us/step - loss: 0.8317 - acc: 0.6288 - val_loss: 0.7535 - val_acc: 0.6642\n",
            "\n",
            "Epoch 00021: val_loss did not improve from 0.71809\n",
            "Epoch 22/100\n",
            "20902/20902 [==============================] - 9s 430us/step - loss: 0.7925 - acc: 0.6514 - val_loss: 0.7508 - val_acc: 0.6599\n",
            "\n",
            "Epoch 00022: val_loss did not improve from 0.71809\n",
            "Epoch 23/100\n",
            "20902/20902 [==============================] - 9s 433us/step - loss: 0.7737 - acc: 0.6604 - val_loss: 0.7123 - val_acc: 0.6802\n",
            "\n",
            "Epoch 00023: val_loss improved from 0.71809 to 0.71228, saving model to 6new_weights_23_0.68.hdf5\n",
            "Uploaded file 6new_weights_23_0.68.hdf5 to drive with ID 1X-yta1aY660jqJpDAirmqjv8AabbsFkh\n",
            "Epoch 24/100\n",
            "20902/20902 [==============================] - 9s 437us/step - loss: 0.7655 - acc: 0.6618 - val_loss: 0.7180 - val_acc: 0.6771\n",
            "\n",
            "Epoch 00024: val_loss did not improve from 0.71228\n",
            "Epoch 25/100\n",
            "20902/20902 [==============================] - 9s 433us/step - loss: 0.7441 - acc: 0.6711 - val_loss: 0.7246 - val_acc: 0.6776\n",
            "\n",
            "Epoch 00025: val_loss did not improve from 0.71228\n",
            "Epoch 26/100\n",
            "20902/20902 [==============================] - 9s 433us/step - loss: 0.7421 - acc: 0.6741 - val_loss: 0.7147 - val_acc: 0.6771\n",
            "\n",
            "Epoch 00026: val_loss did not improve from 0.71228\n",
            "Epoch 27/100\n",
            "20902/20902 [==============================] - 9s 435us/step - loss: 0.7337 - acc: 0.6783 - val_loss: 0.7167 - val_acc: 0.6780\n",
            "\n",
            "Epoch 00027: val_loss did not improve from 0.71228\n",
            "Epoch 28/100\n",
            "20902/20902 [==============================] - 9s 435us/step - loss: 0.7352 - acc: 0.6761 - val_loss: 0.6904 - val_acc: 0.6832\n",
            "\n",
            "Epoch 00028: val_loss improved from 0.71228 to 0.69041, saving model to 6new_weights_28_0.68.hdf5\n",
            "Uploaded file 6new_weights_28_0.68.hdf5 to drive with ID 13b3JC7As0XnId0nOlFubhDfKVgT9pg8H\n",
            "Epoch 29/100\n",
            "20902/20902 [==============================] - 9s 433us/step - loss: 0.7244 - acc: 0.6823 - val_loss: 0.6801 - val_acc: 0.6909\n",
            "\n",
            "Epoch 00029: val_loss improved from 0.69041 to 0.68010, saving model to 6new_weights_29_0.69.hdf5\n",
            "Uploaded file 6new_weights_29_0.69.hdf5 to drive with ID 1RmFgPZPqBzUr5dxOUCQQ2WfIQIrUqBeb\n",
            "Epoch 30/100\n",
            "20902/20902 [==============================] - 9s 434us/step - loss: 0.7193 - acc: 0.6823 - val_loss: 0.6756 - val_acc: 0.6952\n",
            "\n",
            "Epoch 00030: val_loss improved from 0.68010 to 0.67555, saving model to 6new_weights_30_0.70.hdf5\n",
            "Uploaded file 6new_weights_30_0.70.hdf5 to drive with ID 1t9OctciympQmIcnncRY2yDhCTNSWYP-R\n",
            "Epoch 31/100\n",
            "20902/20902 [==============================] - 9s 430us/step - loss: 0.7251 - acc: 0.6837 - val_loss: 0.7016 - val_acc: 0.6814\n",
            "\n",
            "Epoch 00031: val_loss did not improve from 0.67555\n",
            "Epoch 32/100\n",
            "20902/20902 [==============================] - 9s 429us/step - loss: 0.7072 - acc: 0.6890 - val_loss: 0.6784 - val_acc: 0.6896\n",
            "\n",
            "Epoch 00032: val_loss did not improve from 0.67555\n",
            "Epoch 33/100\n",
            "20902/20902 [==============================] - 9s 435us/step - loss: 0.7031 - acc: 0.6926 - val_loss: 0.6841 - val_acc: 0.6952\n",
            "\n",
            "Epoch 00033: val_loss did not improve from 0.67555\n",
            "Epoch 34/100\n",
            "20902/20902 [==============================] - 9s 435us/step - loss: 0.7055 - acc: 0.6912 - val_loss: 0.7579 - val_acc: 0.6638\n",
            "\n",
            "Epoch 00034: val_loss did not improve from 0.67555\n",
            "Epoch 35/100\n",
            "20902/20902 [==============================] - 9s 435us/step - loss: 0.6990 - acc: 0.6920 - val_loss: 0.6660 - val_acc: 0.6991\n",
            "\n",
            "Epoch 00035: val_loss improved from 0.67555 to 0.66603, saving model to 6new_weights_35_0.70.hdf5\n",
            "Uploaded file 6new_weights_35_0.70.hdf5 to drive with ID 1Y_D4DTmzk7tpOe2RSByVk-QZ7YV71xpa\n",
            "Epoch 36/100\n",
            "20902/20902 [==============================] - 9s 432us/step - loss: 0.6909 - acc: 0.6999 - val_loss: 0.6610 - val_acc: 0.7038\n",
            "\n",
            "Epoch 00036: val_loss improved from 0.66603 to 0.66104, saving model to 6new_weights_36_0.70.hdf5\n",
            "Uploaded file 6new_weights_36_0.70.hdf5 to drive with ID 17_XIUJSPU0NUHzMgYz789fBKQnp2AIHT\n",
            "Epoch 37/100\n",
            "20902/20902 [==============================] - 9s 436us/step - loss: 0.6867 - acc: 0.7007 - val_loss: 0.6588 - val_acc: 0.7086\n",
            "\n",
            "Epoch 00037: val_loss improved from 0.66104 to 0.65880, saving model to 6new_weights_37_0.71.hdf5\n",
            "Uploaded file 6new_weights_37_0.71.hdf5 to drive with ID 1qwyv6tsXZSurRNFYdyaR_EGLV1QEdo33\n",
            "Epoch 38/100\n",
            "20902/20902 [==============================] - 9s 435us/step - loss: 0.6995 - acc: 0.6953 - val_loss: 0.6926 - val_acc: 0.6827\n",
            "\n",
            "Epoch 00038: val_loss did not improve from 0.65880\n",
            "Epoch 39/100\n",
            "20902/20902 [==============================] - 9s 434us/step - loss: 0.6831 - acc: 0.7011 - val_loss: 0.8213 - val_acc: 0.6530\n",
            "\n",
            "Epoch 00039: val_loss did not improve from 0.65880\n",
            "Epoch 40/100\n",
            "20902/20902 [==============================] - 9s 436us/step - loss: 0.6723 - acc: 0.7099 - val_loss: 0.6609 - val_acc: 0.7086\n",
            "\n",
            "Epoch 00040: val_loss did not improve from 0.65880\n",
            "Epoch 41/100\n",
            "20902/20902 [==============================] - 9s 435us/step - loss: 0.6689 - acc: 0.7085 - val_loss: 0.7036 - val_acc: 0.6776\n",
            "\n",
            "Epoch 00041: val_loss did not improve from 0.65880\n",
            "Epoch 42/100\n",
            "20902/20902 [==============================] - 9s 435us/step - loss: 0.6737 - acc: 0.7109 - val_loss: 0.6667 - val_acc: 0.7000\n",
            "\n",
            "Epoch 00042: val_loss did not improve from 0.65880\n",
            "Epoch 43/100\n",
            "20902/20902 [==============================] - 9s 433us/step - loss: 0.6681 - acc: 0.7134 - val_loss: 0.6417 - val_acc: 0.7176\n",
            "\n",
            "Epoch 00043: val_loss improved from 0.65880 to 0.64171, saving model to 6new_weights_43_0.72.hdf5\n",
            "Uploaded file 6new_weights_43_0.72.hdf5 to drive with ID 1LLZOX8ye3HQZhoYuECFp9-fOs2cVpje3\n",
            "Epoch 44/100\n",
            "20902/20902 [==============================] - 9s 437us/step - loss: 0.6650 - acc: 0.7138 - val_loss: 0.6565 - val_acc: 0.6978\n",
            "\n",
            "Epoch 00044: val_loss did not improve from 0.64171\n",
            "Epoch 45/100\n",
            "20902/20902 [==============================] - 9s 434us/step - loss: 0.6675 - acc: 0.7132 - val_loss: 0.6399 - val_acc: 0.7142\n",
            "\n",
            "Epoch 00045: val_loss improved from 0.64171 to 0.63992, saving model to 6new_weights_45_0.71.hdf5\n",
            "Uploaded file 6new_weights_45_0.71.hdf5 to drive with ID 1VWDLEF3l0H05MrV1YEFXE5TTDtyEaXKF\n",
            "Epoch 46/100\n",
            "20902/20902 [==============================] - 9s 435us/step - loss: 0.6486 - acc: 0.7247 - val_loss: 0.6369 - val_acc: 0.7116\n",
            "\n",
            "Epoch 00046: val_loss improved from 0.63992 to 0.63694, saving model to 6new_weights_46_0.71.hdf5\n",
            "Uploaded file 6new_weights_46_0.71.hdf5 to drive with ID 10II9O9Hm7dwL70LQmHmO743VBEiEX4Ah\n",
            "Epoch 47/100\n",
            "20902/20902 [==============================] - 9s 437us/step - loss: 0.6672 - acc: 0.7133 - val_loss: 0.6326 - val_acc: 0.7254\n",
            "\n",
            "Epoch 00047: val_loss improved from 0.63694 to 0.63257, saving model to 6new_weights_47_0.73.hdf5\n",
            "Uploaded file 6new_weights_47_0.73.hdf5 to drive with ID 1hOvli6QJQJYwaWnajIeaQelNMXPO14nE\n",
            "Epoch 48/100\n",
            "20902/20902 [==============================] - 9s 434us/step - loss: 0.6430 - acc: 0.7250 - val_loss: 0.6617 - val_acc: 0.7211\n",
            "\n",
            "Epoch 00048: val_loss did not improve from 0.63257\n",
            "Epoch 49/100\n",
            "20902/20902 [==============================] - 9s 434us/step - loss: 0.6456 - acc: 0.7261 - val_loss: 0.6815 - val_acc: 0.6952\n",
            "\n",
            "Epoch 00049: val_loss did not improve from 0.63257\n",
            "Epoch 50/100\n",
            "20902/20902 [==============================] - 9s 434us/step - loss: 0.6334 - acc: 0.7296 - val_loss: 0.6275 - val_acc: 0.7374\n",
            "\n",
            "Epoch 00050: val_loss improved from 0.63257 to 0.62749, saving model to 6new_weights_50_0.74.hdf5\n",
            "Uploaded file 6new_weights_50_0.74.hdf5 to drive with ID 1VDkXHOPsCm1Pp5jgoJKajQp39THumv0D\n",
            "Epoch 51/100\n",
            "20902/20902 [==============================] - 9s 433us/step - loss: 0.6354 - acc: 0.7307 - val_loss: 0.6574 - val_acc: 0.7043\n",
            "\n",
            "Epoch 00051: val_loss did not improve from 0.62749\n",
            "Epoch 52/100\n",
            "20902/20902 [==============================] - 9s 432us/step - loss: 0.6484 - acc: 0.7277 - val_loss: 0.6193 - val_acc: 0.7348\n",
            "\n",
            "Epoch 00052: val_loss improved from 0.62749 to 0.61933, saving model to 6new_weights_52_0.73.hdf5\n",
            "Uploaded file 6new_weights_52_0.73.hdf5 to drive with ID 1XzoPFwRG7F5FJaeW1NCYIuIU6Y0i1xf2\n",
            "Epoch 53/100\n",
            "20902/20902 [==============================] - 9s 432us/step - loss: 0.6316 - acc: 0.7373 - val_loss: 0.6253 - val_acc: 0.7396\n",
            "\n",
            "Epoch 00053: val_loss did not improve from 0.61933\n",
            "Epoch 54/100\n",
            "20902/20902 [==============================] - 9s 433us/step - loss: 0.6310 - acc: 0.7402 - val_loss: 0.6128 - val_acc: 0.7361\n",
            "\n",
            "Epoch 00054: val_loss improved from 0.61933 to 0.61283, saving model to 6new_weights_54_0.74.hdf5\n",
            "Uploaded file 6new_weights_54_0.74.hdf5 to drive with ID 1MPBmkfJSb1Zg69dz6nC4lVuxIWrbhL6E\n",
            "Epoch 55/100\n",
            "20902/20902 [==============================] - 9s 432us/step - loss: 0.6189 - acc: 0.7447 - val_loss: 0.6216 - val_acc: 0.7292\n",
            "\n",
            "Epoch 00055: val_loss did not improve from 0.61283\n",
            "Epoch 56/100\n",
            "20902/20902 [==============================] - 9s 430us/step - loss: 0.6131 - acc: 0.7506 - val_loss: 0.6114 - val_acc: 0.7516\n",
            "\n",
            "Epoch 00056: val_loss improved from 0.61283 to 0.61139, saving model to 6new_weights_56_0.75.hdf5\n",
            "Uploaded file 6new_weights_56_0.75.hdf5 to drive with ID 1qHG4ejbWJUSRbvGvM-KIzf5roCnhaFMJ\n",
            "Epoch 57/100\n",
            "20902/20902 [==============================] - 9s 432us/step - loss: 0.6171 - acc: 0.7477 - val_loss: 0.6312 - val_acc: 0.7198\n",
            "\n",
            "Epoch 00057: val_loss did not improve from 0.61139\n",
            "Epoch 58/100\n",
            "20902/20902 [==============================] - 9s 432us/step - loss: 0.6111 - acc: 0.7505 - val_loss: 0.6434 - val_acc: 0.7159\n",
            "\n",
            "Epoch 00058: val_loss did not improve from 0.61139\n",
            "Epoch 59/100\n",
            "20902/20902 [==============================] - 9s 434us/step - loss: 0.6118 - acc: 0.7508 - val_loss: 0.6853 - val_acc: 0.7051\n",
            "\n",
            "Epoch 00059: val_loss did not improve from 0.61139\n",
            "Epoch 60/100\n",
            "20902/20902 [==============================] - 9s 431us/step - loss: 0.5994 - acc: 0.7563 - val_loss: 0.6054 - val_acc: 0.7512\n",
            "\n",
            "Epoch 00060: val_loss improved from 0.61139 to 0.60535, saving model to 6new_weights_60_0.75.hdf5\n",
            "Uploaded file 6new_weights_60_0.75.hdf5 to drive with ID 1y3kym21uh8MoEbaRNXQJ5vS29tijZ6Yt\n",
            "Epoch 61/100\n",
            "20902/20902 [==============================] - 9s 429us/step - loss: 0.5865 - acc: 0.7597 - val_loss: 0.6076 - val_acc: 0.7469\n",
            "\n",
            "Epoch 00061: val_loss did not improve from 0.60535\n",
            "Epoch 62/100\n",
            "20902/20902 [==============================] - 9s 432us/step - loss: 0.5848 - acc: 0.7628 - val_loss: 0.5916 - val_acc: 0.7495\n",
            "\n",
            "Epoch 00062: val_loss improved from 0.60535 to 0.59160, saving model to 6new_weights_62_0.75.hdf5\n",
            "Uploaded file 6new_weights_62_0.75.hdf5 to drive with ID 19gFoIsRpZfggFFSO_LIPS9iaPR6Aqz7U\n",
            "Epoch 63/100\n",
            "20902/20902 [==============================] - 9s 429us/step - loss: 0.5880 - acc: 0.7633 - val_loss: 0.6015 - val_acc: 0.7529\n",
            "\n",
            "Epoch 00063: val_loss did not improve from 0.59160\n",
            "Epoch 64/100\n",
            "20902/20902 [==============================] - 9s 424us/step - loss: 0.5735 - acc: 0.7706 - val_loss: 0.5821 - val_acc: 0.7576\n",
            "\n",
            "Epoch 00064: val_loss improved from 0.59160 to 0.58209, saving model to 6new_weights_64_0.76.hdf5\n",
            "Uploaded file 6new_weights_64_0.76.hdf5 to drive with ID 1gWS1x8rlpVZH16Jn79FCjlODtT5Lb8zv\n",
            "Epoch 65/100\n",
            "20902/20902 [==============================] - 9s 433us/step - loss: 0.5807 - acc: 0.7707 - val_loss: 0.5787 - val_acc: 0.7619\n",
            "\n",
            "Epoch 00065: val_loss improved from 0.58209 to 0.57867, saving model to 6new_weights_65_0.76.hdf5\n",
            "Uploaded file 6new_weights_65_0.76.hdf5 to drive with ID 178ZCkYm7wnEp9AV7C6aiDfiIZIV7iVLE\n",
            "Epoch 66/100\n",
            "20902/20902 [==============================] - 9s 434us/step - loss: 0.5787 - acc: 0.7670 - val_loss: 0.5910 - val_acc: 0.7555\n",
            "\n",
            "Epoch 00066: val_loss did not improve from 0.57867\n",
            "Epoch 67/100\n",
            "20902/20902 [==============================] - 9s 434us/step - loss: 0.5649 - acc: 0.7752 - val_loss: 0.5825 - val_acc: 0.7663\n",
            "\n",
            "Epoch 00067: val_loss did not improve from 0.57867\n",
            "Epoch 68/100\n",
            "20902/20902 [==============================] - 9s 434us/step - loss: 0.5638 - acc: 0.7792 - val_loss: 0.5927 - val_acc: 0.7693\n",
            "\n",
            "Epoch 00068: val_loss did not improve from 0.57867\n",
            "Epoch 69/100\n",
            "20902/20902 [==============================] - 9s 432us/step - loss: 0.5618 - acc: 0.7826 - val_loss: 0.6158 - val_acc: 0.7576\n",
            "\n",
            "Epoch 00069: val_loss did not improve from 0.57867\n",
            "Epoch 70/100\n",
            "20902/20902 [==============================] - 9s 435us/step - loss: 0.5546 - acc: 0.7842 - val_loss: 0.6582 - val_acc: 0.7327\n",
            "\n",
            "Epoch 00070: val_loss did not improve from 0.57867\n",
            "Epoch 71/100\n",
            "20902/20902 [==============================] - 9s 438us/step - loss: 0.5457 - acc: 0.7903 - val_loss: 0.5929 - val_acc: 0.7714\n",
            "\n",
            "Epoch 00071: val_loss did not improve from 0.57867\n",
            "Epoch 72/100\n",
            "20902/20902 [==============================] - 9s 435us/step - loss: 0.5461 - acc: 0.7915 - val_loss: 0.6092 - val_acc: 0.7538\n",
            "\n",
            "Epoch 00072: val_loss did not improve from 0.57867\n",
            "Epoch 73/100\n",
            "20902/20902 [==============================] - 9s 433us/step - loss: 0.5460 - acc: 0.7876 - val_loss: 0.5847 - val_acc: 0.7723\n",
            "\n",
            "Epoch 00073: val_loss did not improve from 0.57867\n",
            "Epoch 74/100\n",
            "20902/20902 [==============================] - 9s 434us/step - loss: 0.5288 - acc: 0.7975 - val_loss: 0.5684 - val_acc: 0.7774\n",
            "\n",
            "Epoch 00074: val_loss improved from 0.57867 to 0.56837, saving model to 6new_weights_74_0.78.hdf5\n",
            "Uploaded file 6new_weights_74_0.78.hdf5 to drive with ID 1K_41itfCQFTe7Nny8bJaVGE9M3Fao1Dg\n",
            "Epoch 75/100\n",
            "20902/20902 [==============================] - 9s 433us/step - loss: 0.5332 - acc: 0.7960 - val_loss: 0.6045 - val_acc: 0.7714\n",
            "\n",
            "Epoch 00075: val_loss did not improve from 0.56837\n",
            "Epoch 76/100\n",
            "20902/20902 [==============================] - 9s 434us/step - loss: 0.5263 - acc: 0.8006 - val_loss: 0.5759 - val_acc: 0.7714\n",
            "\n",
            "Epoch 00076: val_loss did not improve from 0.56837\n",
            "Epoch 77/100\n",
            "20902/20902 [==============================] - 9s 436us/step - loss: 0.5274 - acc: 0.8019 - val_loss: 0.6208 - val_acc: 0.7460\n",
            "\n",
            "Epoch 00077: val_loss did not improve from 0.56837\n",
            "Epoch 78/100\n",
            "20902/20902 [==============================] - 9s 434us/step - loss: 0.5198 - acc: 0.8027 - val_loss: 0.6125 - val_acc: 0.7658\n",
            "\n",
            "Epoch 00078: val_loss did not improve from 0.56837\n",
            "Epoch 79/100\n",
            "20902/20902 [==============================] - 9s 433us/step - loss: 0.5181 - acc: 0.8022 - val_loss: 0.5572 - val_acc: 0.7787\n",
            "\n",
            "Epoch 00079: val_loss improved from 0.56837 to 0.55722, saving model to 6new_weights_79_0.78.hdf5\n",
            "Uploaded file 6new_weights_79_0.78.hdf5 to drive with ID 1Z9YzyIJ-tTEoaBpW0FAudWjGtG3W1sYk\n",
            "Epoch 80/100\n",
            "20902/20902 [==============================] - 9s 430us/step - loss: 0.5105 - acc: 0.8084 - val_loss: 0.6194 - val_acc: 0.7546\n",
            "\n",
            "Epoch 00080: val_loss did not improve from 0.55722\n",
            "Epoch 81/100\n",
            "20902/20902 [==============================] - 9s 432us/step - loss: 0.5011 - acc: 0.8115 - val_loss: 0.5847 - val_acc: 0.7731\n",
            "\n",
            "Epoch 00081: val_loss did not improve from 0.55722\n",
            "Epoch 82/100\n",
            "20902/20902 [==============================] - 9s 435us/step - loss: 0.5066 - acc: 0.8058 - val_loss: 0.5644 - val_acc: 0.7800\n",
            "\n",
            "Epoch 00082: val_loss did not improve from 0.55722\n",
            "Epoch 83/100\n",
            "20902/20902 [==============================] - 9s 434us/step - loss: 0.4958 - acc: 0.8182 - val_loss: 0.5690 - val_acc: 0.7774\n",
            "\n",
            "Epoch 00083: val_loss did not improve from 0.55722\n",
            "Epoch 84/100\n",
            "20902/20902 [==============================] - 9s 433us/step - loss: 0.4890 - acc: 0.8187 - val_loss: 0.6134 - val_acc: 0.7619\n",
            "\n",
            "Epoch 00084: val_loss did not improve from 0.55722\n",
            "Epoch 85/100\n",
            "20902/20902 [==============================] - 9s 435us/step - loss: 0.4920 - acc: 0.8156 - val_loss: 0.5693 - val_acc: 0.7826\n",
            "\n",
            "Epoch 00085: val_loss did not improve from 0.55722\n",
            "Epoch 86/100\n",
            "20902/20902 [==============================] - 9s 433us/step - loss: 0.4915 - acc: 0.8172 - val_loss: 0.5572 - val_acc: 0.7852\n",
            "\n",
            "Epoch 00086: val_loss did not improve from 0.55722\n",
            "Epoch 87/100\n",
            "20902/20902 [==============================] - 9s 430us/step - loss: 0.4884 - acc: 0.8164 - val_loss: 0.5680 - val_acc: 0.7830\n",
            "\n",
            "Epoch 00087: val_loss did not improve from 0.55722\n",
            "Epoch 88/100\n",
            "20902/20902 [==============================] - 9s 434us/step - loss: 0.4801 - acc: 0.8195 - val_loss: 0.5617 - val_acc: 0.7792\n",
            "\n",
            "Epoch 00088: val_loss did not improve from 0.55722\n",
            "Epoch 89/100\n",
            "20902/20902 [==============================] - 9s 434us/step - loss: 0.4806 - acc: 0.8182 - val_loss: 0.5484 - val_acc: 0.7861\n",
            "\n",
            "Epoch 00089: val_loss improved from 0.55722 to 0.54843, saving model to 6new_weights_89_0.79.hdf5\n",
            "Uploaded file 6new_weights_89_0.79.hdf5 to drive with ID 1ucpYgf1pvvMBLmzQzcHW7bB4Rwi_mY2N\n",
            "Epoch 90/100\n",
            "20902/20902 [==============================] - 9s 434us/step - loss: 0.4859 - acc: 0.8202 - val_loss: 0.5512 - val_acc: 0.7848\n",
            "\n",
            "Epoch 00090: val_loss did not improve from 0.54843\n",
            "Epoch 91/100\n",
            "20902/20902 [==============================] - 9s 437us/step - loss: 0.4741 - acc: 0.8259 - val_loss: 0.5664 - val_acc: 0.7779\n",
            "\n",
            "Epoch 00091: val_loss did not improve from 0.54843\n",
            "Epoch 92/100\n",
            "20902/20902 [==============================] - 9s 435us/step - loss: 0.4731 - acc: 0.8269 - val_loss: 0.6033 - val_acc: 0.7671\n",
            "\n",
            "Epoch 00092: val_loss did not improve from 0.54843\n",
            "Epoch 93/100\n",
            "20902/20902 [==============================] - 9s 436us/step - loss: 0.4714 - acc: 0.8254 - val_loss: 0.5558 - val_acc: 0.7830\n",
            "\n",
            "Epoch 00093: val_loss did not improve from 0.54843\n",
            "Epoch 94/100\n",
            "20902/20902 [==============================] - 9s 434us/step - loss: 0.4673 - acc: 0.8271 - val_loss: 0.5704 - val_acc: 0.7787\n",
            "\n",
            "Epoch 00094: val_loss did not improve from 0.54843\n",
            "Epoch 95/100\n",
            "20902/20902 [==============================] - 9s 436us/step - loss: 0.4628 - acc: 0.8300 - val_loss: 0.5595 - val_acc: 0.7839\n",
            "\n",
            "Epoch 00095: val_loss did not improve from 0.54843\n",
            "Epoch 96/100\n",
            "20902/20902 [==============================] - 9s 435us/step - loss: 0.4634 - acc: 0.8315 - val_loss: 0.5877 - val_acc: 0.7800\n",
            "\n",
            "Epoch 00096: val_loss did not improve from 0.54843\n",
            "Epoch 97/100\n",
            "20902/20902 [==============================] - 9s 431us/step - loss: 0.4706 - acc: 0.8280 - val_loss: 0.5564 - val_acc: 0.7895\n",
            "\n",
            "Epoch 00097: val_loss did not improve from 0.54843\n",
            "Epoch 98/100\n",
            "20902/20902 [==============================] - 9s 431us/step - loss: 0.4538 - acc: 0.8347 - val_loss: 0.5651 - val_acc: 0.7891\n",
            "\n",
            "Epoch 00098: val_loss did not improve from 0.54843\n",
            "Epoch 99/100\n",
            "20902/20902 [==============================] - 9s 436us/step - loss: 0.4480 - acc: 0.8371 - val_loss: 0.6038 - val_acc: 0.7706\n",
            "\n",
            "Epoch 00099: val_loss did not improve from 0.54843\n",
            "Epoch 100/100\n",
            "20902/20902 [==============================] - 9s 435us/step - loss: 0.4547 - acc: 0.8334 - val_loss: 0.5641 - val_acc: 0.7904\n",
            "\n",
            "Epoch 00100: val_loss did not improve from 0.54843\n",
            "2323/2323 [==============================] - 0s 171us/step\n",
            "Test score: 0.5641074845157612\n",
            "Test accuracy: 0.7903573116350934\n"
          ],
          "name": "stdout"
        }
      ]
    },
    {
      "metadata": {
        "id": "GrBJiA8OuIB3",
        "colab_type": "code",
        "outputId": "817d72af-7a48-47b0-bb4b-da0a3416f953",
        "colab": {
          "base_uri": "https://localhost:8080/",
          "height": 280
        }
      },
      "cell_type": "code",
      "source": [
        "from matplotlib import*\n",
        "# plot learning curves\n",
        "pyplot.plot(history.history['acc'], label='train')\n",
        "pyplot.plot(history.history['val_acc'], label='test')\n",
        "pyplot.title('model accuracy vs validation accuracy', pad=-50)\n",
        "pyplot.ylabel('accuracy')\n",
        "pyplot.xlabel('epoch')\n",
        "pyplot.legend(['train', 'validation'], loc='lower right')\n",
        "pyplot.show()"
      ],
      "execution_count": 0,
      "outputs": [
        {
          "output_type": "display_data",
          "data": {
            "image/png": "[encoded data removed]",
            "text/plain": [
              "<Figure size 432x288 with 1 Axes>"
            ]
          },
          "metadata": {
            "tags": []
          }
        }
      ]
    },
    {
      "metadata": {
        "id": "j96SZ4IJ2ULU",
        "colab_type": "code",
        "outputId": "072ebc2c-5961-47c8-8484-68b84a8830dd",
        "colab": {
          "base_uri": "https://localhost:8080/",
          "height": 293
        }
      },
      "cell_type": "code",
      "source": [
        "pyplot.plot(history.history['loss'])\n",
        "pyplot.plot(history.history['val_loss'])\n",
        "pyplot.title('model train vs validation loss')\n",
        "pyplot.ylabel('loss')\n",
        "pyplot.xlabel('epoch')\n",
        "pyplot.legend(['train', 'validation'], loc='upper right')\n",
        "pyplot.show()"
      ],
      "execution_count": 0,
      "outputs": [
        {
          "output_type": "display_data",
          "data": {
            "image/png": "[encoded data removed]",
            "text/plain": [
              "<Figure size 432x288 with 1 Axes>"
            ]
          },
          "metadata": {
            "tags": []
          }
        }
      ]
    },
    {
      "metadata": {
        "id": "fhPzEJuqDicU",
        "colab_type": "text"
      },
      "cell_type": "markdown",
      "source": [
        "Test a tweet"
      ]
    },
    {
      "metadata": {
        "id": "G_lZbmxQJKIY",
        "colab_type": "code",
        "colab": {}
      },
      "cell_type": "code",
      "source": [
        "# Load the best weights (epoch 89)\n",
        "#!wget https://www.dropbox.com/s/qxd2vdnkk3cgiz1/new_weights_89_0.79.hdf5\n",
        "#model.load_weights('new_weights_89_0.79.hdf5')\n",
        "#opt = SGD(lr=0.5)\n",
        "#model.compile(opt, 'categorical_crossentropy', metrics=['accuracy'])"
      ],
      "execution_count": 0,
      "outputs": []
    },
    {
      "metadata": {
        "id": "e4FigLHjsbDX",
        "colab_type": "code",
        "outputId": "3e08f72b-aaf7-499e-d8de-aa88db10b23d",
        "colab": {
          "base_uri": "https://localhost:8080/",
          "height": 35
        }
      },
      "cell_type": "code",
      "source": [
        "# serialize model to JSON\n",
        "#model_json = model.to_json()\n",
        "#with open(\"model.json\", \"w\") as json_file:\n",
        "#    json_file.write(model_json)\n",
        "# serialize weights to HDF5\n",
        "#model.save_weights(\"model.h5\")\n",
        "#print(\"Saved model to disk\")"
      ],
      "execution_count": 0,
      "outputs": [
        {
          "output_type": "stream",
          "text": [
            "Saved model to disk\n"
          ],
          "name": "stdout"
        }
      ]
    },
    {
      "metadata": {
        "id": "uQFp3HdrLikz",
        "colab_type": "code",
        "outputId": "4fe5e053-ddae-42c2-c380-0403bc834449",
        "colab": {
          "base_uri": "https://localhost:8080/",
          "height": 79
        }
      },
      "cell_type": "code",
      "source": [
        "twt = 'the class on machine learning was very rewarding. with good content and instructors. tried an interesting project that pushed me forward. still have much to learn.'\n",
        "#twt = 'it may be the years best seller'\n",
        "#twt = 'he really makes my skin crawl, yuck!'\n",
        "#twt = 'bitcoin is crashing!'\n",
        "\n",
        "# putting it into a dataframe so i can use the existing functions\n",
        "data = [['8', twt]] \n",
        "#using a 8 as a sentiment placeholder for the dataframe\n",
        "  \n",
        "# Create the pandas DataFrame \n",
        "tdf = pd.DataFrame(data, columns = ['Sentiment', 'Text']) \n",
        "  \n",
        "# print dataframe. \n",
        "tdf "
      ],
      "execution_count": 0,
      "outputs": [
        {
          "output_type": "execute_result",
          "data": {
            "text/html": [
              "<div>\n",
              "<style scoped>\n",
              "    .dataframe tbody tr th:only-of-type {\n",
              "        vertical-align: middle;\n",
              "    }\n",
              "\n",
              "    .dataframe tbody tr th {\n",
              "        vertical-align: top;\n",
              "    }\n",
              "\n",
              "    .dataframe thead th {\n",
              "        text-align: right;\n",
              "    }\n",
              "</style>\n",
              "<table border=\"1\" class=\"dataframe\">\n",
              "  <thead>\n",
              "    <tr style=\"text-align: right;\">\n",
              "      <th></th>\n",
              "      <th>Sentiment</th>\n",
              "      <th>Text</th>\n",
              "    </tr>\n",
              "  </thead>\n",
              "  <tbody>\n",
              "    <tr>\n",
              "      <th>0</th>\n",
              "      <td>8</td>\n",
              "      <td>the class on machine learning was very rewardi...</td>\n",
              "    </tr>\n",
              "  </tbody>\n",
              "</table>\n",
              "</div>"
            ],
            "text/plain": [
              "  Sentiment                                               Text\n",
              "0         8  the class on machine learning was very rewardi..."
            ]
          },
          "metadata": {
            "tags": []
          },
          "execution_count": 45
        }
      ]
    },
    {
      "metadata": {
        "id": "OhJnVlVdDnyP",
        "colab_type": "code",
        "outputId": "ab70b10e-2fb5-456c-bdf7-341221d232b5",
        "colab": {
          "base_uri": "https://localhost:8080/",
          "height": 73
        }
      },
      "cell_type": "code",
      "source": [
        "#clean the tweet \n",
        "tdf['Text'] = clean_text(tdf['Text'])\n",
        "\n",
        "#tokenize the tweet\n",
        "tdf['tokenized']= tdf['Text'].apply(lambda row: tokenize(row))\n",
        "\n",
        "tdf['tokenized_int'] = tdf['tokenized'].apply(lambda x: transform_to_ids(x))\n",
        "\n",
        "#padding the tweet to have exactly the same shape\n",
        "tdf_test = sequence.pad_sequences(tdf['tokenized_int'], maxlen=maxlen, value=0)\n",
        "\n",
        "sentiment = model.predict(tdf_test,batch_size=1,verbose = 2)[0]\n",
        "print('Tweet:', twt)\n",
        "if(np.argmax(sentiment) == 0):\n",
        "    print(\"Sentiment: neutral\")\n",
        "elif (np.argmax(sentiment) == 1):\n",
        "    print(\"Sentiment: negative\")\n",
        "elif (np.argmax(sentiment) == 2):\n",
        "    print(\"Sentiment: positive\")"
      ],
      "execution_count": 0,
      "outputs": [
        {
          "output_type": "stream",
          "text": [
            "Tweet: the class on machine learning was very rewarding. with good content and instructors. tried an interesting project that pushed me forward. still have much to learn.\n",
            "Sentiment: positive\n"
          ],
          "name": "stdout"
        }
      ]
    }
  ]
}